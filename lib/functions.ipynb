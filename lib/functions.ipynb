{
 "cells": [
  {
   "cell_type": "code",
   "execution_count": null,
   "id": "80bed674",
   "metadata": {},
   "outputs": [],
   "source": [
    "##sentiment analysis\n",
    "def sentiment(text):\n",
    "    total_sentiment= sentimentAnalyser.polarity_scores(text)\n",
    "    total_score = total_sentiment['compound']\n",
    "    return total_score\n",
    "\n",
    "\n",
    "# get the emotion score of each text\n",
    "def getEmotionsTFIDF(s,emTFIDF):\n",
    "  emTFIDF.set_text(s)\n",
    "  emTFIDF.get_emotfidf()\n",
    "  return emTFIDF.em_tfidf\n",
    "\n",
    "#coherence matrix, which is used to choose the best topic size\n",
    "def coherence(num_topics):\n",
    "    ldamodel = LdaModel(corpus, num_topics=num_topics, id2word = dictionary, passes=30,random_state = 1)\n",
    "    print(ldamodel.print_topics(num_topics=num_topics, num_words=10))\n",
    "    ldacm = CoherenceModel(model=ldamodel, texts=data_set, dictionary=dictionary, coherence='c_v')\n",
    "    print(ldacm.get_coherence())\n",
    "    return ldacm.get_coherence()\n"
   ]
  }
 ],
 "metadata": {
  "kernelspec": {
   "display_name": "Python 3 (ipykernel)",
   "language": "python",
   "name": "python3"
  },
  "language_info": {
   "codemirror_mode": {
    "name": "ipython",
    "version": 3
   },
   "file_extension": ".py",
   "mimetype": "text/x-python",
   "name": "python",
   "nbconvert_exporter": "python",
   "pygments_lexer": "ipython3",
   "version": "3.9.13"
  }
 },
 "nbformat": 4,
 "nbformat_minor": 5
}
